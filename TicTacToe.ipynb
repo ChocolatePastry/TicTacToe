{
 "cells": [
  {
   "cell_type": "code",
   "execution_count": 1,
   "id": "5f13519b-574c-4090-9856-3169642555f0",
   "metadata": {},
   "outputs": [],
   "source": [
    "def canvas():\n",
    "    \"\"\"\n",
    "    Contains Canvas and returns it!\n",
    "    \"\"\"\n",
    "    game_board = [\n",
    "              [ \" \", \" \", \" \" ],\n",
    "              [ \" \", \" \", \" \" ],\n",
    "              [ \" \", \" \", \" \" ]\n",
    "             ]\n",
    "    return game_board"
   ]
  },
  {
   "cell_type": "code",
   "execution_count": 2,
   "id": "3828bb5e-0ea1-441f-bbb1-ba02b50c1b73",
   "metadata": {},
   "outputs": [],
   "source": [
    "def print_game_board(game_board):\n",
    "\n",
    "    \"\"\"\n",
    "    Prints game board\n",
    "    \"\"\"\n",
    "    \n",
    "    for i in range(len(game_board)):\n",
    "        for j in range(len(game_board)):\n",
    "            if ([i, j] in [[0,1], [1,1], [2,1]]):\n",
    "                print(f\"| {game_board[i][j]:^5} |\", end='')\n",
    "            elif ([i, j] in [[0,0], [1,0], [2,0]]):\n",
    "                print(f\" {game_board[i][j]:<5}\", end=\"\")\n",
    "            else:\n",
    "                print(f\" {game_board[i][j]:>5}\")\n",
    "                \n",
    "                "
   ]
  },
  {
   "cell_type": "code",
   "execution_count": 3,
   "id": "1227bea8-69b7-42c5-938e-292b2eefea28",
   "metadata": {},
   "outputs": [],
   "source": [
    "def user_input(player):\n",
    "\n",
    "    \"\"\"\n",
    "    Takes Player Input and verifes if it is an integer!\n",
    "    \"\"\"\n",
    "\n",
    "    while True:\n",
    "\n",
    "        print(f\"It's your turn! {player}!\")\n",
    "        usr_row = input(\"Enter the row number: \")\n",
    "        usr_col = input(\"Enter the column number: \")\n",
    "\n",
    "        if ( usr_row.isdigit() and usr_col.isdigit() ):\n",
    "            usr_row = int(usr_row)\n",
    "            usr_col = int(usr_col)\n",
    "            return (usr_row, usr_col)\n",
    "        \n",
    "        print(\"\\n\"*3)\n",
    "\n",
    "        "
   ]
  },
  {
   "cell_type": "code",
   "execution_count": 4,
   "id": "52aea114-689e-4eca-b534-478c9b67319b",
   "metadata": {},
   "outputs": [],
   "source": [
    "def validate_input(player, game_board, moves):\n",
    "\n",
    "    \"\"\"\n",
    "    Validates Player Input and Manipulates The Game Board Accordingly!\n",
    "    \"\"\"\n",
    "\n",
    "    while True:\n",
    "        usr_row, usr_col = user_input(player)\n",
    "        \n",
    "        if ( usr_col in [0, 1, 2] and usr_row in [0, 1, 2] and game_board[usr_row][usr_col] == \" \" and player[-1] == \"1\"):\n",
    "            game_board[usr_row][usr_col] = \"X\"\n",
    "            return (plyr_moves((usr_row, usr_col), \"Player 1\", moves))\n",
    "            \n",
    "        elif ( usr_col in [0, 1, 2] and game_board[usr_row][usr_col] == \" \" and usr_row in [0, 1, 2] ):\n",
    "            game_board[usr_row][usr_col] = \"O\"\n",
    "            return (plyr_moves((usr_row, usr_col), \"Player 2\", moves))\n",
    "\n"
   ]
  },
  {
   "cell_type": "code",
   "execution_count": 5,
   "id": "3709f597-2c4c-4422-ab2d-dc4d14fab454",
   "metadata": {},
   "outputs": [],
   "source": [
    "def plyr_moves(pos, player, moves):\n",
    "    \"\"\"\n",
    "    Keeps Record of Player Moves (Both Players)\n",
    "    \"\"\"\n",
    "    moves[pos] = player\n",
    "\n",
    "    return moves\n"
   ]
  },
  {
   "cell_type": "code",
   "execution_count": 6,
   "id": "0e3e8928-848f-4777-980e-44130140e1f3",
   "metadata": {},
   "outputs": [],
   "source": [
    "def check(moves, player):\n",
    "    \"\"\"\n",
    "    Checks, If a Player has won! \n",
    "    \"\"\"\n",
    "    winning_position = [\n",
    "        {(0,0),(0,1),(0,2)},   # All The Winning Positions\n",
    "        {(1,0),(1,1),(1,2)},\n",
    "        {(2,0),(2,1),(2,2)},\n",
    "        {(1,0),(1,0),(2,0)},\n",
    "        {(1,1),(1,1),(2,1)},\n",
    "        {(1,2),(1,2),(2,2)},\n",
    "        {(2,0),(1,1),(0,2)},\n",
    "        {(0,0),(1,1),(2,2)},\n",
    "    ]\n",
    "\n",
    "    plyr_pos = {pos for pos, player1 in moves.items() if player == player1}  # Checks Player Positions and returns a Dictionar of Player's Moves\n",
    "\n",
    "    return any(win <= plyr_pos for win in winning_position)  # If the above returned dictionary has any of the winning positions\n",
    "                                                             # Returns True, Otherwise False\n",
    "    "
   ]
  },
  {
   "cell_type": "code",
   "execution_count": 7,
   "id": "ab835e47-fc01-4c76-89b7-af4c58a42573",
   "metadata": {},
   "outputs": [],
   "source": [
    "def game_control():\n",
    "    \"\"\"\n",
    "    Controls The Flow of The Game! And calls functions!\n",
    "    \"\"\"\n",
    "\n",
    "    move = {}\n",
    "    game_board = canvas()\n",
    "\n",
    "    print_game_board(game_board)\n",
    "\n",
    "    for i in range(9):\n",
    "        if (i in [0, 2, 4, 6, 8]):\n",
    "            moves = validate_input(\"Player 1\", game_board, move)\n",
    "            print_game_board(game_board)\n",
    "            if (check(moves, \"Player 1\")):\n",
    "                print(\"Player 1 has won!\")\n",
    "                break\n",
    "\n",
    "        else:\n",
    "            moves = validate_input(\"Player 2\", game_board, move)\n",
    "            print_game_board(game_board)\n",
    "            if (check(moves, \"Player 2\")):\n",
    "                print(\"Player 2 has won!\")\n",
    "                break"
   ]
  },
  {
   "cell_type": "code",
   "execution_count": 8,
   "id": "602c8d12-e9ce-44e8-9d27-a1c1dbc599d5",
   "metadata": {},
   "outputs": [
    {
     "name": "stdout",
     "output_type": "stream",
     "text": [
      "      |       |      \n",
      "      |       |      \n",
      "      |       |      \n",
      "It's your turn! Player 1!\n"
     ]
    },
    {
     "ename": "KeyboardInterrupt",
     "evalue": "Interrupted by user",
     "output_type": "error",
     "traceback": [
      "\u001b[1;31m---------------------------------------------------------------------------\u001b[0m",
      "\u001b[1;31mKeyboardInterrupt\u001b[0m                         Traceback (most recent call last)",
      "Cell \u001b[1;32mIn[8], line 1\u001b[0m\n\u001b[1;32m----> 1\u001b[0m game_control()\n",
      "Cell \u001b[1;32mIn[7], line 13\u001b[0m, in \u001b[0;36mgame_control\u001b[1;34m()\u001b[0m\n\u001b[0;32m     11\u001b[0m \u001b[38;5;28;01mfor\u001b[39;00m i \u001b[38;5;129;01min\u001b[39;00m \u001b[38;5;28mrange\u001b[39m(\u001b[38;5;241m9\u001b[39m):\n\u001b[0;32m     12\u001b[0m     \u001b[38;5;28;01mif\u001b[39;00m (i \u001b[38;5;129;01min\u001b[39;00m [\u001b[38;5;241m0\u001b[39m, \u001b[38;5;241m2\u001b[39m, \u001b[38;5;241m4\u001b[39m, \u001b[38;5;241m6\u001b[39m, \u001b[38;5;241m8\u001b[39m]):\n\u001b[1;32m---> 13\u001b[0m         moves \u001b[38;5;241m=\u001b[39m validate_input(\u001b[38;5;124m\"\u001b[39m\u001b[38;5;124mPlayer 1\u001b[39m\u001b[38;5;124m\"\u001b[39m, game_board, move)\n\u001b[0;32m     14\u001b[0m         print_game_board(game_board)\n\u001b[0;32m     15\u001b[0m         \u001b[38;5;28;01mif\u001b[39;00m (check(moves, \u001b[38;5;124m\"\u001b[39m\u001b[38;5;124mPlayer 1\u001b[39m\u001b[38;5;124m\"\u001b[39m)):\n",
      "Cell \u001b[1;32mIn[4], line 8\u001b[0m, in \u001b[0;36mvalidate_input\u001b[1;34m(player, game_board, moves)\u001b[0m\n\u001b[0;32m      3\u001b[0m \u001b[38;5;250m\u001b[39m\u001b[38;5;124;03m\"\"\"\u001b[39;00m\n\u001b[0;32m      4\u001b[0m \u001b[38;5;124;03mValidates Player Input and Manipulates The Game Board Accordingly!\u001b[39;00m\n\u001b[0;32m      5\u001b[0m \u001b[38;5;124;03m\"\"\"\u001b[39;00m\n\u001b[0;32m      7\u001b[0m \u001b[38;5;28;01mwhile\u001b[39;00m \u001b[38;5;28;01mTrue\u001b[39;00m:\n\u001b[1;32m----> 8\u001b[0m     usr_row, usr_col \u001b[38;5;241m=\u001b[39m user_input(player)\n\u001b[0;32m     10\u001b[0m     \u001b[38;5;28;01mif\u001b[39;00m ( usr_col \u001b[38;5;129;01min\u001b[39;00m [\u001b[38;5;241m0\u001b[39m, \u001b[38;5;241m1\u001b[39m, \u001b[38;5;241m2\u001b[39m] \u001b[38;5;129;01mand\u001b[39;00m usr_row \u001b[38;5;129;01min\u001b[39;00m [\u001b[38;5;241m0\u001b[39m, \u001b[38;5;241m1\u001b[39m, \u001b[38;5;241m2\u001b[39m] \u001b[38;5;129;01mand\u001b[39;00m game_board[usr_row][usr_col] \u001b[38;5;241m==\u001b[39m \u001b[38;5;124m\"\u001b[39m\u001b[38;5;124m \u001b[39m\u001b[38;5;124m\"\u001b[39m \u001b[38;5;129;01mand\u001b[39;00m player[\u001b[38;5;241m-\u001b[39m\u001b[38;5;241m1\u001b[39m] \u001b[38;5;241m==\u001b[39m \u001b[38;5;124m\"\u001b[39m\u001b[38;5;124m1\u001b[39m\u001b[38;5;124m\"\u001b[39m):\n\u001b[0;32m     11\u001b[0m         game_board[usr_row][usr_col] \u001b[38;5;241m=\u001b[39m \u001b[38;5;124m\"\u001b[39m\u001b[38;5;124mX\u001b[39m\u001b[38;5;124m\"\u001b[39m\n",
      "Cell \u001b[1;32mIn[3], line 10\u001b[0m, in \u001b[0;36muser_input\u001b[1;34m(player)\u001b[0m\n\u001b[0;32m      7\u001b[0m \u001b[38;5;28;01mwhile\u001b[39;00m \u001b[38;5;28;01mTrue\u001b[39;00m:\n\u001b[0;32m      9\u001b[0m     \u001b[38;5;28mprint\u001b[39m(\u001b[38;5;124mf\u001b[39m\u001b[38;5;124m\"\u001b[39m\u001b[38;5;124mIt\u001b[39m\u001b[38;5;124m'\u001b[39m\u001b[38;5;124ms your turn! \u001b[39m\u001b[38;5;132;01m{\u001b[39;00mplayer\u001b[38;5;132;01m}\u001b[39;00m\u001b[38;5;124m!\u001b[39m\u001b[38;5;124m\"\u001b[39m)\n\u001b[1;32m---> 10\u001b[0m     usr_row \u001b[38;5;241m=\u001b[39m \u001b[38;5;28minput\u001b[39m(\u001b[38;5;124m\"\u001b[39m\u001b[38;5;124mEnter the row number: \u001b[39m\u001b[38;5;124m\"\u001b[39m)\n\u001b[0;32m     11\u001b[0m     usr_col \u001b[38;5;241m=\u001b[39m \u001b[38;5;28minput\u001b[39m(\u001b[38;5;124m\"\u001b[39m\u001b[38;5;124mEnter the column number: \u001b[39m\u001b[38;5;124m\"\u001b[39m)\n\u001b[0;32m     13\u001b[0m     \u001b[38;5;28;01mif\u001b[39;00m ( usr_row\u001b[38;5;241m.\u001b[39misdigit() \u001b[38;5;129;01mand\u001b[39;00m usr_col\u001b[38;5;241m.\u001b[39misdigit() ):\n",
      "File \u001b[1;32m~\\anaconda3\\Lib\\site-packages\\ipykernel\\kernelbase.py:1262\u001b[0m, in \u001b[0;36mKernel.raw_input\u001b[1;34m(self, prompt)\u001b[0m\n\u001b[0;32m   1260\u001b[0m     msg \u001b[38;5;241m=\u001b[39m \u001b[38;5;124m\"\u001b[39m\u001b[38;5;124mraw_input was called, but this frontend does not support input requests.\u001b[39m\u001b[38;5;124m\"\u001b[39m\n\u001b[0;32m   1261\u001b[0m     \u001b[38;5;28;01mraise\u001b[39;00m StdinNotImplementedError(msg)\n\u001b[1;32m-> 1262\u001b[0m \u001b[38;5;28;01mreturn\u001b[39;00m \u001b[38;5;28mself\u001b[39m\u001b[38;5;241m.\u001b[39m_input_request(\n\u001b[0;32m   1263\u001b[0m     \u001b[38;5;28mstr\u001b[39m(prompt),\n\u001b[0;32m   1264\u001b[0m     \u001b[38;5;28mself\u001b[39m\u001b[38;5;241m.\u001b[39m_parent_ident[\u001b[38;5;124m\"\u001b[39m\u001b[38;5;124mshell\u001b[39m\u001b[38;5;124m\"\u001b[39m],\n\u001b[0;32m   1265\u001b[0m     \u001b[38;5;28mself\u001b[39m\u001b[38;5;241m.\u001b[39mget_parent(\u001b[38;5;124m\"\u001b[39m\u001b[38;5;124mshell\u001b[39m\u001b[38;5;124m\"\u001b[39m),\n\u001b[0;32m   1266\u001b[0m     password\u001b[38;5;241m=\u001b[39m\u001b[38;5;28;01mFalse\u001b[39;00m,\n\u001b[0;32m   1267\u001b[0m )\n",
      "File \u001b[1;32m~\\anaconda3\\Lib\\site-packages\\ipykernel\\kernelbase.py:1305\u001b[0m, in \u001b[0;36mKernel._input_request\u001b[1;34m(self, prompt, ident, parent, password)\u001b[0m\n\u001b[0;32m   1302\u001b[0m \u001b[38;5;28;01mexcept\u001b[39;00m \u001b[38;5;167;01mKeyboardInterrupt\u001b[39;00m:\n\u001b[0;32m   1303\u001b[0m     \u001b[38;5;66;03m# re-raise KeyboardInterrupt, to truncate traceback\u001b[39;00m\n\u001b[0;32m   1304\u001b[0m     msg \u001b[38;5;241m=\u001b[39m \u001b[38;5;124m\"\u001b[39m\u001b[38;5;124mInterrupted by user\u001b[39m\u001b[38;5;124m\"\u001b[39m\n\u001b[1;32m-> 1305\u001b[0m     \u001b[38;5;28;01mraise\u001b[39;00m \u001b[38;5;167;01mKeyboardInterrupt\u001b[39;00m(msg) \u001b[38;5;28;01mfrom\u001b[39;00m \u001b[38;5;28;01mNone\u001b[39;00m\n\u001b[0;32m   1306\u001b[0m \u001b[38;5;28;01mexcept\u001b[39;00m \u001b[38;5;167;01mException\u001b[39;00m:\n\u001b[0;32m   1307\u001b[0m     \u001b[38;5;28mself\u001b[39m\u001b[38;5;241m.\u001b[39mlog\u001b[38;5;241m.\u001b[39mwarning(\u001b[38;5;124m\"\u001b[39m\u001b[38;5;124mInvalid Message:\u001b[39m\u001b[38;5;124m\"\u001b[39m, exc_info\u001b[38;5;241m=\u001b[39m\u001b[38;5;28;01mTrue\u001b[39;00m)\n",
      "\u001b[1;31mKeyboardInterrupt\u001b[0m: Interrupted by user"
     ]
    }
   ],
   "source": [
    "game_control() "
   ]
  },
  {
   "cell_type": "code",
   "execution_count": 10,
   "id": "6b03ebe7-7c00-4ae4-a340-c0a840bc6f04",
   "metadata": {},
   "outputs": [
    {
     "name": "stderr",
     "output_type": "stream",
     "text": [
      "[NbConvertApp] Converting notebook TicTacToe.ipynb to script\n",
      "[NbConvertApp] Writing 3657 bytes to TicTacToe.py\n"
     ]
    }
   ],
   "source": [
    "!jupyter nbconvert --to script TicTacToe.ipynb"
   ]
  },
  {
   "cell_type": "code",
   "execution_count": null,
   "id": "308949bc-3448-497b-907b-8076b25b5d01",
   "metadata": {},
   "outputs": [],
   "source": []
  }
 ],
 "metadata": {
  "kernelspec": {
   "display_name": "Python 3 (ipykernel)",
   "language": "python",
   "name": "python3"
  },
  "language_info": {
   "codemirror_mode": {
    "name": "ipython",
    "version": 3
   },
   "file_extension": ".py",
   "mimetype": "text/x-python",
   "name": "python",
   "nbconvert_exporter": "python",
   "pygments_lexer": "ipython3",
   "version": "3.12.7"
  }
 },
 "nbformat": 4,
 "nbformat_minor": 5
}
